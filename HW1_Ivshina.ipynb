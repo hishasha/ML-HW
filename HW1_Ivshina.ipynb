{
  "nbformat": 4,
  "nbformat_minor": 0,
  "metadata": {
    "colab": {
      "provenance": []
    },
    "kernelspec": {
      "name": "python3",
      "display_name": "Python 3"
    },
    "language_info": {
      "name": "python"
    }
  },
  "cells": [
    {
      "cell_type": "code",
      "execution_count": 276,
      "metadata": {
        "id": "kNXk4uzLlRzs"
      },
      "outputs": [],
      "source": [
        "import numpy as np"
      ]
    },
    {
      "cell_type": "markdown",
      "source": [
        "**Задание 1**"
      ],
      "metadata": {
        "id": "pkoDzuz3v8I8"
      }
    },
    {
      "cell_type": "code",
      "source": [
        "def result_mark(weights: np.array, marks: np.array) -> int:\n",
        "  return round(np.sum(weights*marks))\n"
      ],
      "metadata": {
        "id": "EQ4AYmYdo5Wo"
      },
      "execution_count": 277,
      "outputs": []
    },
    {
      "cell_type": "code",
      "source": [
        "weights = np.array([0.3, 0.4, 0.2, 0.1])\n",
        "marks = np.array([7, 10, 8, 6])\n",
        "assert result_mark(weights, marks) == 8"
      ],
      "metadata": {
        "id": "ASXN-Baaqy_S"
      },
      "execution_count": 278,
      "outputs": []
    },
    {
      "cell_type": "code",
      "source": [
        "weights = np.array([0.3, 0.4, 0.2, 0.1])\n",
        "marks = np.array([7, 0, 8, 6])\n",
        "\n",
        "assert result_mark(weights, marks) == 4"
      ],
      "metadata": {
        "id": "e36jD5rwq6Z3"
      },
      "execution_count": 279,
      "outputs": []
    },
    {
      "cell_type": "markdown",
      "source": [
        "**Задание 2**"
      ],
      "metadata": {
        "id": "WcateSrdv-hC"
      }
    },
    {
      "cell_type": "code",
      "source": [
        "def change_array(array: np.array, number: int) -> np.array:\n",
        "    array[::3] = number\n",
        "    return array"
      ],
      "metadata": {
        "id": "jpEHE5ETwn_X"
      },
      "execution_count": 280,
      "outputs": []
    },
    {
      "cell_type": "code",
      "source": [
        "array = np.array([3, 5, 1, 0, -3, 22, 213436])\n",
        "number = -111\n",
        "\n",
        "assert np.allclose(change_array(array, number), np.array([-111, 5, 1, -111, -3, 22, -111]))"
      ],
      "metadata": {
        "id": "HqUHcCefa4US"
      },
      "execution_count": 281,
      "outputs": []
    },
    {
      "cell_type": "code",
      "source": [
        "array = np.array([3, 14, 15, 92, 6])\n",
        "number = 8\n",
        "\n",
        "assert np.allclose(change_array(array, number), np.array([8, 14, 15, 8, 6]))"
      ],
      "metadata": {
        "id": "SXXy8m7Za9ZJ"
      },
      "execution_count": 282,
      "outputs": []
    },
    {
      "cell_type": "markdown",
      "source": [
        "**Задание 3**"
      ],
      "metadata": {
        "id": "PfFge16hwAKb"
      }
    },
    {
      "cell_type": "code",
      "source": [
        "def find_close(array1: np.array, array2: np.array, precision: float) -> np.array:\n",
        "  array = array1-array2\n",
        "  array_res = np.where(np.absolute(array)<=precision)[0]\n",
        "  return array_res"
      ],
      "metadata": {
        "id": "uOzGUuqoQ80Z"
      },
      "execution_count": 283,
      "outputs": []
    },
    {
      "cell_type": "code",
      "source": [
        "array1 = np.array([1.5, 0.5, 2, -4.1, -3, 6, -1])\n",
        "array2 = np.array([1.2, 0.5, 1, -4.0,  3, 0, -1.2])\n",
        "precision = 0.5\n",
        "res = find_close(array1, array2, precision)\n",
        "\n",
        "assert res.ndim == 1\n",
        "assert np.allclose(res, np.array([0, 1, 3, 6]))"
      ],
      "metadata": {
        "id": "n23dYPJvTFRk"
      },
      "execution_count": 284,
      "outputs": []
    },
    {
      "cell_type": "code",
      "source": [
        "array1 = np.array([3.1415, 2.7182, 1.6180, 6.6261])\n",
        "array2 = np.array([6.6730, 1.3807, -1,     6.0222])\n",
        "precision = 1.7\n",
        "res = find_close(array1, array2, precision)\n",
        "\n",
        "assert res.ndim == 1\n",
        "assert np.allclose(res, np.array([1, 3]))"
      ],
      "metadata": {
        "id": "Xc5jnR6aTLT-"
      },
      "execution_count": 285,
      "outputs": []
    },
    {
      "cell_type": "markdown",
      "source": [
        "**Задание 4**"
      ],
      "metadata": {
        "id": "Z3V02XDCwCCj"
      }
    },
    {
      "cell_type": "code",
      "source": [
        "def block_matrix(block: np.array) -> np.array:\n",
        "    block = np.hstack([block, block])\n",
        "    block = block.T\n",
        "    block = np.hstack([block, block])\n",
        "    block = block.T\n",
        "    return block"
      ],
      "metadata": {
        "id": "bCSXeNbRke1V"
      },
      "execution_count": 286,
      "outputs": []
    },
    {
      "cell_type": "code",
      "source": [
        "block = np.array([[1, 3, 3], [7, 0, 0]])\n",
        "\n",
        "assert np.allclose(\n",
        "    block_matrix(block),\n",
        "    np.array([[1, 3, 3, 1, 3, 3],\n",
        "              [7, 0, 0, 7, 0, 0],\n",
        "              [1, 3, 3, 1, 3, 3],\n",
        "              [7, 0, 0, 7, 0, 0]])\n",
        ")"
      ],
      "metadata": {
        "id": "8rWR4Bc4lkUs"
      },
      "execution_count": 287,
      "outputs": []
    },
    {
      "cell_type": "markdown",
      "source": [
        "**Задание 5**"
      ],
      "metadata": {
        "id": "iaKYouqcwEdY"
      }
    },
    {
      "cell_type": "code",
      "source": [
        "def diag_prod(matrix: np.array) -> int:\n",
        "    arr = np.diagonal(matrix)\n",
        "    res = np.prod(arr[arr != 0])\n",
        "    return res"
      ],
      "metadata": {
        "id": "lpFs19q5lwN7"
      },
      "execution_count": 288,
      "outputs": []
    },
    {
      "cell_type": "code",
      "source": [
        "matrix = np.array([[0, 1, 2, 3],\n",
        "                   [4, 5, 6, 7],\n",
        "                   [8, 9, 10, 11],\n",
        "                   [12, 13, 14, 15]])\n",
        "\n",
        "\n",
        "assert diag_prod(matrix) == 750"
      ],
      "metadata": {
        "id": "CbGSx8c1wAW3"
      },
      "execution_count": 289,
      "outputs": []
    },
    {
      "cell_type": "markdown",
      "source": [
        "**Задание 6**"
      ],
      "metadata": {
        "id": "wurgshgopWjE"
      }
    },
    {
      "cell_type": "code",
      "source": [
        "def normalize(matrix: np.array) -> np.array:\n",
        "    mean1 = matrix.mean(axis=0)\n",
        "    std1 = matrix.std(axis=0)\n",
        "    res = (matrix - mean1) / std1\n",
        "    return np.nan_to_num(res,0)"
      ],
      "metadata": {
        "id": "3r4KPbNzzYkp"
      },
      "execution_count": 290,
      "outputs": []
    },
    {
      "cell_type": "code",
      "source": [
        "matrix = np.array([[1, 4, 4200], [0, 10, 5000], [1, 2, 1000]])\n",
        "\n",
        "assert np.allclose(\n",
        "    normalize(matrix),\n",
        "    np.array([[ 0.7071, -0.39223,  0.46291],\n",
        "              [-1.4142,  1.37281,  0.92582],\n",
        "              [ 0.7071, -0.98058, -1.38873]])\n",
        ")"
      ],
      "metadata": {
        "id": "MkqDioL7ztPM"
      },
      "execution_count": 291,
      "outputs": []
    },
    {
      "cell_type": "code",
      "source": [
        "matrix = np.array([[-7, 2, 42], [2, 10, 50], [5, 4, 10]])\n",
        "\n",
        "assert np.allclose(\n",
        "    normalize(matrix),\n",
        "    np.array([[-1.37281, -0.98058,  0.46291],\n",
        "              [ 0.39223,  1.37281,  0.92582],\n",
        "              [ 0.98058, -0.39223, -1.38873]])\n",
        ")"
      ],
      "metadata": {
        "id": "hhRYgezhz_2p"
      },
      "execution_count": 292,
      "outputs": []
    },
    {
      "cell_type": "markdown",
      "source": [
        "**Задание 7**"
      ],
      "metadata": {
        "id": "1j7of22npFnF"
      }
    },
    {
      "cell_type": "code",
      "source": [
        "def prevZeroMax(matrix: np.array) -> int:\n",
        "  new_mat = matrix[1:]\n",
        "  is_zero = (matrix==0)[:-1]\n",
        "  return np.max(new_mat[is_zero])\n"
      ],
      "metadata": {
        "id": "Bh-ZXRG8jRKc"
      },
      "execution_count": 293,
      "outputs": []
    },
    {
      "cell_type": "code",
      "source": [
        "coefs = np.array([6, 2, 0, 3, 0, 0, 5, 7, 0])\n",
        "\n",
        "assert  prevZeroMax(coefs) == 5"
      ],
      "metadata": {
        "id": "d5fTMNfQqOZR"
      },
      "execution_count": 294,
      "outputs": []
    },
    {
      "cell_type": "markdown",
      "source": [
        "**Задание 8**"
      ],
      "metadata": {
        "id": "M7t9ompcuPv0"
      }
    },
    {
      "cell_type": "code",
      "source": [
        "def make_symmetric(matrix: np.array) -> np.array:\n",
        "    m1 = np.copy(matrix)\n",
        "    matix = matrix.T\n",
        "    matrix = matrix.T\n",
        "    np.fill_diagonal(matrix,0)\n",
        "    return (m1 + matrix)"
      ],
      "metadata": {
        "id": "jzALmMFC0BlB"
      },
      "execution_count": 295,
      "outputs": []
    },
    {
      "cell_type": "code",
      "source": [
        "matrix = np.array([[1, 2, 3, 4], [0, 5, 6, 7], [0, 0, 8, 9], [0, 0, 0, 10]])\n",
        "\n",
        "assert np.allclose(\n",
        "    make_symmetric(matrix),\n",
        "    np.array([[ 1,  2,  3,  4],\n",
        "              [ 2,  5,  6,  7],\n",
        "              [ 3,  6,  8,  9],\n",
        "              [ 4,  7,  9, 10]])\n",
        ")"
      ],
      "metadata": {
        "id": "JcHBWIInH2fx"
      },
      "execution_count": 296,
      "outputs": []
    },
    {
      "cell_type": "code",
      "source": [
        "matrix = np.array([[10, 21, 32, 49], [0, 53, 62, 78], [0, 0, 82, 92], [0, 0, 0, 10]])\n",
        "\n",
        "assert np.allclose(\n",
        "    make_symmetric(matrix),\n",
        "    np.array([[10, 21, 32, 49],\n",
        "              [21, 53, 62, 78],\n",
        "              [32, 62, 82, 92],\n",
        "              [49, 78, 92, 10]])\n",
        ")"
      ],
      "metadata": {
        "id": "L8RPFnv8H8jl"
      },
      "execution_count": 297,
      "outputs": []
    },
    {
      "cell_type": "markdown",
      "source": [
        "**Задание 9**"
      ],
      "metadata": {
        "id": "qhdIdlZXwJ-8"
      }
    },
    {
      "cell_type": "code",
      "source": [
        "def construct_matrix(m: int, a: int, b: int) -> np.array:\n",
        "    res = np.tile(np.arange(a, b+1), m).reshape(m, -1)\n",
        "    return res"
      ],
      "metadata": {
        "id": "bGO-TXHTIBXx"
      },
      "execution_count": 298,
      "outputs": []
    },
    {
      "cell_type": "code",
      "source": [
        "m = 5\n",
        "a = 3\n",
        "b = 10\n",
        "\n",
        "assert np.allclose(\n",
        "    construct_matrix(m, a, b),\n",
        "    np.array([[ 3,  4,  5,  6,  7,  8,  9, 10],\n",
        "              [ 3,  4,  5,  6,  7,  8,  9, 10],\n",
        "              [ 3,  4,  5,  6,  7,  8,  9, 10],\n",
        "              [ 3,  4,  5,  6,  7,  8,  9, 10],\n",
        "              [ 3,  4,  5,  6,  7,  8,  9, 10]])\n",
        ")"
      ],
      "metadata": {
        "id": "vt6G4mGRIr2w"
      },
      "execution_count": 299,
      "outputs": []
    },
    {
      "cell_type": "code",
      "source": [
        "m = 3\n",
        "a = 2\n",
        "b = 6\n",
        "\n",
        "assert np.allclose(\n",
        "    construct_matrix(m, a, b),\n",
        "    np.array([[2, 3, 4, 5, 6],\n",
        "              [2, 3, 4, 5, 6],\n",
        "              [2, 3, 4, 5, 6]])\n",
        ")"
      ],
      "metadata": {
        "id": "ovOY16PRzxL_"
      },
      "execution_count": 300,
      "outputs": []
    },
    {
      "cell_type": "markdown",
      "source": [
        "**Задание 10**"
      ],
      "metadata": {
        "id": "sZan4PXb0M4G"
      }
    },
    {
      "cell_type": "code",
      "source": [
        "def cosine_similarity(vec1: np.array, vec2: np.array) -> float:\n",
        "    return np.dot(vec1,vec2)/(np.linalg.norm(vec1)*np.linalg.norm(vec2))"
      ],
      "metadata": {
        "id": "Sk6xLWmC0VAK"
      },
      "execution_count": 301,
      "outputs": []
    },
    {
      "cell_type": "code",
      "source": [
        "vec1 = np.array([-2, 1,  0, -5, 4, 3, -3])\n",
        "vec2 = np.array([ 0, 2, -2, 10, 6, 0,  0])\n",
        "\n",
        "assert np.allclose(cosine_similarity(vec1, vec2), -0.25)"
      ],
      "metadata": {
        "id": "mvsJcaHYJd5M"
      },
      "execution_count": 302,
      "outputs": []
    },
    {
      "cell_type": "code",
      "source": [
        "vec1 = np.array([-4, 2,  9, -8, 9, 0, -2])\n",
        "vec2 = np.array([ 3, 2, -4, -1, 3, 2,  2])\n",
        "\n",
        "assert np.allclose(cosine_similarity(vec1, vec2), -0.119929)"
      ],
      "metadata": {
        "id": "T_ANrn_DJVb2"
      },
      "execution_count": 303,
      "outputs": []
    },
    {
      "cell_type": "markdown",
      "source": [
        "![photo1706381788.jpeg](data:image/jpeg;base64,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)"
      ],
      "metadata": {
        "id": "KEaVFgCpSQkW"
      }
    }
  ]
}